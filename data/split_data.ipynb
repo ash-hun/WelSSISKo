{
 "cells": [
  {
   "cell_type": "markdown",
   "metadata": {},
   "source": [
    "# **Split Dataset**"
   ]
  },
  {
   "cell_type": "code",
   "execution_count": 2,
   "metadata": {},
   "outputs": [],
   "source": [
    "# Import Module\n",
    "import pandas as pd\n",
    "from sklearn.model_selection import train_test_split\n"
   ]
  },
  {
   "cell_type": "code",
   "execution_count": 3,
   "metadata": {},
   "outputs": [
    {
     "data": {
      "text/html": [
       "<div>\n",
       "<style scoped>\n",
       "    .dataframe tbody tr th:only-of-type {\n",
       "        vertical-align: middle;\n",
       "    }\n",
       "\n",
       "    .dataframe tbody tr th {\n",
       "        vertical-align: top;\n",
       "    }\n",
       "\n",
       "    .dataframe thead th {\n",
       "        text-align: right;\n",
       "    }\n",
       "</style>\n",
       "<table border=\"1\" class=\"dataframe\">\n",
       "  <thead>\n",
       "    <tr style=\"text-align: right;\">\n",
       "      <th></th>\n",
       "      <th>Question</th>\n",
       "      <th>Answer</th>\n",
       "    </tr>\n",
       "  </thead>\n",
       "  <tbody>\n",
       "    <tr>\n",
       "      <th>0</th>\n",
       "      <td>65세 이상 어르신들이 폐렴구균 예방접종을 받으려면 어디로 가야 하나요?</td>\n",
       "      <td>전국 지정의료기관 또는 보건소를 방문하시면 됩니다. 신분증을 지참해야 하며, 예방접...</td>\n",
       "    </tr>\n",
       "    <tr>\n",
       "      <th>1</th>\n",
       "      <td>혹시 주민등록상 1958년 12월 31일 이전 출생자만 국가예방접종 지원 사업의 대...</td>\n",
       "      <td>네, 그렇습니다. 65세 이상 어르신 중 주민등록상 출생연도 기준으로 1958년 1...</td>\n",
       "    </tr>\n",
       "    <tr>\n",
       "      <th>2</th>\n",
       "      <td>인플루엔자 4가 백신을 매년 몇 회 지원받을 수 있나요?</td>\n",
       "      <td>인플루엔자 4가 백신은 매년 1회 지원받을 수 있습니다.</td>\n",
       "    </tr>\n",
       "    <tr>\n",
       "      <th>3</th>\n",
       "      <td>폐렴구균 23가 다당 백신은 몇 회 접종을 지원하나요?</td>\n",
       "      <td>폐렴구균 23가 다당 백신은 1회만 지원됩니다.</td>\n",
       "    </tr>\n",
       "    <tr>\n",
       "      <th>4</th>\n",
       "      <td>예방접종을 받기 전에 미리 접종 가능 여부를 확인해야 하나요?</td>\n",
       "      <td>네, 접종기관 방문 전에 접종 가능 여부를 확인하는 것이 필요합니다.</td>\n",
       "    </tr>\n",
       "    <tr>\n",
       "      <th>5</th>\n",
       "      <td>질병관리청 콜센터나 예방접종관리과에 문의할 수 있는 번호를 알려주세요.</td>\n",
       "      <td>질병관리청 콜센터는 ☎1339로, 예방접종관리과는 ☎043-719-8398~8399...</td>\n",
       "    </tr>\n",
       "    <tr>\n",
       "      <th>6</th>\n",
       "      <td>인플루엔자 백신 접종은 어느 시기에 받는 게 좋나요?</td>\n",
       "      <td>인플루엔자 백신 접종은 매년 10월경에 진행되는 계절사업으로, 이 시기에 맞추어 접...</td>\n",
       "    </tr>\n",
       "    <tr>\n",
       "      <th>7</th>\n",
       "      <td>인플루엔자 백신과 폐렴구균 백신을 함께 맞아도 되나요?</td>\n",
       "      <td>네, 일반적으로 인플루엔자 백신과 폐련구균 백신은 동시접종이 가능합니다. 하지만 개...</td>\n",
       "    </tr>\n",
       "    <tr>\n",
       "      <th>8</th>\n",
       "      <td>인플루엔자 백신을 맞은 후 폐렴구균 백신을 맞을 때 지켜야 할 접종 간격이 있나요?</td>\n",
       "      <td>동시접종을 하지 못한 경우에도 특별히 지켜야 할 접종 간격은 없습니다. 개별 상황에...</td>\n",
       "    </tr>\n",
       "    <tr>\n",
       "      <th>9</th>\n",
       "      <td>예방접종도우미 누리집 주소를 알려주세요.</td>\n",
       "      <td>예방접종도우미 누리집 주소는 [https://nip.kdca.go.kr](https...</td>\n",
       "    </tr>\n",
       "  </tbody>\n",
       "</table>\n",
       "</div>"
      ],
      "text/plain": [
       "                                            Question  \\\n",
       "0           65세 이상 어르신들이 폐렴구균 예방접종을 받으려면 어디로 가야 하나요?   \n",
       "1  혹시 주민등록상 1958년 12월 31일 이전 출생자만 국가예방접종 지원 사업의 대...   \n",
       "2                    인플루엔자 4가 백신을 매년 몇 회 지원받을 수 있나요?   \n",
       "3                     폐렴구균 23가 다당 백신은 몇 회 접종을 지원하나요?   \n",
       "4                 예방접종을 받기 전에 미리 접종 가능 여부를 확인해야 하나요?   \n",
       "5            질병관리청 콜센터나 예방접종관리과에 문의할 수 있는 번호를 알려주세요.   \n",
       "6                      인플루엔자 백신 접종은 어느 시기에 받는 게 좋나요?   \n",
       "7                     인플루엔자 백신과 폐렴구균 백신을 함께 맞아도 되나요?   \n",
       "8     인플루엔자 백신을 맞은 후 폐렴구균 백신을 맞을 때 지켜야 할 접종 간격이 있나요?   \n",
       "9                             예방접종도우미 누리집 주소를 알려주세요.   \n",
       "\n",
       "                                              Answer  \n",
       "0  전국 지정의료기관 또는 보건소를 방문하시면 됩니다. 신분증을 지참해야 하며, 예방접...  \n",
       "1  네, 그렇습니다. 65세 이상 어르신 중 주민등록상 출생연도 기준으로 1958년 1...  \n",
       "2                    인플루엔자 4가 백신은 매년 1회 지원받을 수 있습니다.  \n",
       "3                         폐렴구균 23가 다당 백신은 1회만 지원됩니다.  \n",
       "4             네, 접종기관 방문 전에 접종 가능 여부를 확인하는 것이 필요합니다.  \n",
       "5  질병관리청 콜센터는 ☎1339로, 예방접종관리과는 ☎043-719-8398~8399...  \n",
       "6  인플루엔자 백신 접종은 매년 10월경에 진행되는 계절사업으로, 이 시기에 맞추어 접...  \n",
       "7  네, 일반적으로 인플루엔자 백신과 폐련구균 백신은 동시접종이 가능합니다. 하지만 개...  \n",
       "8  동시접종을 하지 못한 경우에도 특별히 지켜야 할 접종 간격은 없습니다. 개별 상황에...  \n",
       "9  예방접종도우미 누리집 주소는 [https://nip.kdca.go.kr](https...  "
      ]
     },
     "execution_count": 3,
     "metadata": {},
     "output_type": "execute_result"
    }
   ],
   "source": [
    "# Import Dataset\n",
    "dataset = pd.read_csv(\"Dataset Link\")\n",
    "dataset[:10]"
   ]
  },
  {
   "cell_type": "code",
   "execution_count": 12,
   "metadata": {},
   "outputs": [],
   "source": [
    "train, test = train_test_split(dataset, test_size=0.1, shuffle=True, random_state=1113)"
   ]
  },
  {
   "cell_type": "code",
   "execution_count": 13,
   "metadata": {},
   "outputs": [
    {
     "name": "stdout",
     "output_type": "stream",
     "text": [
      "(10294, 2) (1144, 2)\n"
     ]
    }
   ],
   "source": [
    "print(train.shape, test.shape)"
   ]
  },
  {
   "cell_type": "code",
   "execution_count": 14,
   "metadata": {},
   "outputs": [
    {
     "name": "stdout",
     "output_type": "stream",
     "text": [
      "(11438, 2)\n"
     ]
    }
   ],
   "source": [
    "print(dataset.shape)"
   ]
  },
  {
   "cell_type": "code",
   "execution_count": 15,
   "metadata": {},
   "outputs": [],
   "source": [
    "train.to_csv('./data/train.csv', index=False)\n",
    "test.to_csv('./data/test.csv', index=False)"
   ]
  }
 ],
 "metadata": {
  "kernelspec": {
   "display_name": "ssis",
   "language": "python",
   "name": "python3"
  },
  "language_info": {
   "codemirror_mode": {
    "name": "ipython",
    "version": 3
   },
   "file_extension": ".py",
   "mimetype": "text/x-python",
   "name": "python",
   "nbconvert_exporter": "python",
   "pygments_lexer": "ipython3",
   "version": "3.10.12"
  }
 },
 "nbformat": 4,
 "nbformat_minor": 2
}
